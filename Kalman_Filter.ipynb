{
 "cells": [
  {
   "cell_type": "code",
   "execution_count": 109,
   "metadata": {},
   "outputs": [],
   "source": [
    "import numpy as np\n",
    "import matplotlib.pyplot as plt"
   ]
  },
  {
   "cell_type": "code",
   "execution_count": 110,
   "metadata": {},
   "outputs": [
    {
     "name": "stdout",
     "output_type": "stream",
     "text": [
      "(matrix([[ 0.],\n",
      "        [ 0.],\n",
      "        [ 0.],\n",
      "        [ 0.]]), (4, 1))\n"
     ]
    }
   ],
   "source": [
    "x = np.matrix([0.0, 0.0, 0.0, 0.0]).T\n",
    "print(x, x.shape)"
   ]
  },
  {
   "cell_type": "code",
   "execution_count": 111,
   "metadata": {},
   "outputs": [
    {
     "name": "stdout",
     "output_type": "stream",
     "text": [
      "(matrix([[ 1. ,  0. ,  0.1,  0. ],\n",
      "        [ 0. ,  1. ,  0. ,  0.1],\n",
      "        [ 0. ,  0. ,  1. ,  0. ],\n",
      "        [ 0. ,  0. ,  0. ,  1. ]]), (4, 4))\n"
     ]
    }
   ],
   "source": [
    "t = 0.1 \n",
    "# Dynamic Matrix\n",
    "A = np.matrix([[1.0, 0.0, t, 0.0],\n",
    "              [0.0, 1.0, 0.0, t],\n",
    "              [0.0, 0.0, 1.0, 0.0],\n",
    "              [0.0, 0.0, 0.0, 1.0]])\n",
    "print(A, A.shape)"
   ]
  },
  {
   "cell_type": "code",
   "execution_count": 112,
   "metadata": {},
   "outputs": [
    {
     "name": "stdout",
     "output_type": "stream",
     "text": [
      "(matrix([[ 0.,  0.,  1.,  0.],\n",
      "        [ 0.,  0.,  0.,  1.]]), (2, 4))\n"
     ]
    }
   ],
   "source": [
    "# Measurment Matrix\n",
    "C = np.matrix([[0.0, 0.0, 1.0, 0.0],\n",
    "              [0.0, 0.0, 0.0, 1.0]])\n",
    "print(C, C.shape)"
   ]
  },
  {
   "cell_type": "code",
   "execution_count": 113,
   "metadata": {},
   "outputs": [
    {
     "name": "stdout",
     "output_type": "stream",
     "text": [
      "(matrix([[ 0.005],\n",
      "        [ 0.005],\n",
      "        [ 0.1  ],\n",
      "        [ 0.1  ]]), (4, 1))\n"
     ]
    }
   ],
   "source": [
    "B = np.matrix([[0.5*t**2],\n",
    "               [0.5*t**2],\n",
    "               [t],\n",
    "               [t]])\n",
    "\n",
    "print(B, B.shape)"
   ]
  },
  {
   "cell_type": "code",
   "execution_count": 114,
   "metadata": {},
   "outputs": [
    {
     "name": "stdout",
     "output_type": "stream",
     "text": [
      "(matrix([[ 0.001936,  0.001936,  0.03872 ,  0.03872 ],\n",
      "        [ 0.001936,  0.001936,  0.03872 ,  0.03872 ],\n",
      "        [ 0.03872 ,  0.03872 ,  0.7744  ,  0.7744  ],\n",
      "        [ 0.03872 ,  0.03872 ,  0.7744  ,  0.7744  ]]), (4, 4))\n"
     ]
    }
   ],
   "source": [
    "sv = 8.8  \n",
    "Q = B*B.T*sv**2  # Acceleartion process noise\n",
    "print(Q, Q.shape)"
   ]
  },
  {
   "cell_type": "code",
   "execution_count": 115,
   "metadata": {},
   "outputs": [
    {
     "name": "stdout",
     "output_type": "stream",
     "text": [
      "(array([[ 1000.,     0.,     0.,     0.],\n",
      "       [    0.,  1000.,     0.,     0.],\n",
      "       [    0.,     0.,  1000.,     0.],\n",
      "       [    0.,     0.,     0.,  1000.]]), (4, 4))\n"
     ]
    }
   ],
   "source": [
    "# Initial Uncertainty\n",
    "P = np.diag([1000.0, 1000.0, 1000.0, 1000.0]) \n",
    "print(P, P.shape)"
   ]
  },
  {
   "cell_type": "code",
   "execution_count": 116,
   "metadata": {},
   "outputs": [
    {
     "name": "stdout",
     "output_type": "stream",
     "text": [
      "(matrix([[ 100.,    0.],\n",
      "        [   0.,  100.]]), (2, 2))\n"
     ]
    }
   ],
   "source": [
    "# Measurement Noise\n",
    "s = 10.0**2\n",
    "\n",
    "R = np.matrix([[s, 0.0],\n",
    "              [0.0, s]])\n",
    "print(R, R.shape)"
   ]
  },
  {
   "cell_type": "code",
   "execution_count": 117,
   "metadata": {},
   "outputs": [
    {
     "name": "stdout",
     "output_type": "stream",
     "text": [
      "(2, 200)\n",
      "Standard Deviation of Measurements=1.01\n",
      "Standard Deviation of Measurements=0.99\n"
     ]
    }
   ],
   "source": [
    "m = 200 # Measurements\n",
    "vx= 20\n",
    "vy= 10 \n",
    "\n",
    "mx = np.array(vx+1*np.random.randn(m))\n",
    "my = np.array(vy+1*np.random.randn(m))\n",
    "\n",
    "measurements = np.vstack((mx,my))\n",
    "\n",
    "print(measurements.shape)\n",
    "\n",
    "print('Standard Deviation of Measurements=%.2f' % np.std(mx))\n",
    "print('Standard Deviation of Measurements=%.2f' % np.std(my))"
   ]
  },
  {
   "cell_type": "code",
   "execution_count": 118,
   "metadata": {},
   "outputs": [
    {
     "data": {
      "text/plain": [
       "<matplotlib.legend.Legend at 0x7f871e936bd0>"
      ]
     },
     "execution_count": 118,
     "metadata": {},
     "output_type": "execute_result"
    },
    {
     "data": {
      "image/png": "[encoded data removed]",
      "text/plain": [
       "<Figure size 1152x288 with 1 Axes>"
      ]
     },
     "metadata": {
      "needs_background": "light"
     },
     "output_type": "display_data"
    }
   ],
   "source": [
    "img = plt.figure(figsize=(16,4))\n",
    "\n",
    "plt.step(range(m),mx, label='$\\dot x$')\n",
    "plt.step(range(m),my, label='$\\dot y$')\n",
    "plt.ylabel('Velocity $m/s$')\n",
    "plt.title('Measurements')\n",
    "plt.legend(loc='best',prop={'size':18})"
   ]
  },
  {
   "cell_type": "code",
   "execution_count": 119,
   "metadata": {},
   "outputs": [],
   "source": [
    "xt = []\n",
    "yt = []\n",
    "dxt= []\n",
    "dyt= []\n",
    "\n",
    "def savestates(x):\n",
    "    xt.append(float(x[0]))\n",
    "    yt.append(float(x[1]))\n",
    "    dxt.append(float(x[2]))\n",
    "    dyt.append(float(x[3]))"
   ]
  },
  {
   "cell_type": "code",
   "execution_count": 120,
   "metadata": {},
   "outputs": [
    {
     "name": "stdout",
     "output_type": "stream",
     "text": [
      "(array([[ 1.,  0.,  0.,  0.],\n",
      "       [ 0.,  1.,  0.,  0.],\n",
      "       [ 0.,  0.,  1.,  0.],\n",
      "       [ 0.,  0.,  0.,  1.]]), (4, 4))\n"
     ]
    }
   ],
   "source": [
    "I = np.eye(4)\n",
    "print(I, I.shape)"
   ]
  },
  {
   "cell_type": "code",
   "execution_count": 121,
   "metadata": {},
   "outputs": [],
   "source": [
    "for n in range(len(measurements[0])):\n",
    "    \n",
    "    # Prediciton\n",
    "    x = A*x # State [Linear Equ.]\n",
    "    P = A*P*A.T + Q # Error covarience\n",
    "    \n",
    "    # Correction\n",
    "    # Step 1\n",
    "    K = (P*C.T) * np.linalg.pinv(C*P*C.T + R) # Kalman gain \n",
    "    # Step 2\n",
    "    Z = measurements[:,n].reshape(2,1)\n",
    "    x = x + (K * (Z - (C * x))) \n",
    "    # Step 3\n",
    "    P = (I - (K*C))*P \n",
    "    \n",
    "    savestates(x)"
   ]
  },
  {
   "cell_type": "code",
   "execution_count": 122,
   "metadata": {},
   "outputs": [],
   "source": [
    "def plot_x():\n",
    "    fig = plt.figure(figsize=(16,9))\n",
    "    plt.step(range(len(measurements[0])),dxt, label='$\\dot x$')\n",
    "    plt.step(range(len(measurements[0])),dyt, label='$\\dot y$')\n",
    "\n",
    "    plt.axhline(vx, color='#999999', label='$\\dot x_{asm}$')\n",
    "    plt.axhline(vy, color='#999999', label='$\\dot y_{asm}$')\n",
    "\n",
    "    plt.xlabel('Filter Step')\n",
    "    plt.title('Estimate (Elements from State Vector)')\n",
    "    plt.legend(loc='best',prop={'size':22})\n",
    "    plt.ylim([0, 30])\n",
    "    plt.ylabel('Velocity')"
   ]
  },
  {
   "cell_type": "code",
   "execution_count": 104,
   "metadata": {},
   "outputs": [
    {
     "data": {
      "image/png": "[encoded data removed]",
      "text/plain": [
       "<Figure size 1152x648 with 1 Axes>"
      ]
     },
     "metadata": {
      "needs_background": "light"
     },
     "output_type": "display_data"
    }
   ],
   "source": [
    "plot_x()"
   ]
  },
  {
   "cell_type": "code",
   "execution_count": null,
   "metadata": {},
   "outputs": [],
   "source": []
  }
 ],
 "metadata": {
  "kernelspec": {
   "display_name": "Python 2",
   "language": "python",
   "name": "python2"
  },
  "language_info": {
   "codemirror_mode": {
    "name": "ipython",
    "version": 2
   },
   "file_extension": ".py",
   "mimetype": "text/x-python",
   "name": "python",
   "nbconvert_exporter": "python",
   "pygments_lexer": "ipython2",
   "version": "2.7.12"
  }
 },
 "nbformat": 4,
 "nbformat_minor": 2
}
